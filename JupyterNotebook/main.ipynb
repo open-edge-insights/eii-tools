{
 "cells": [
  {
   "cell_type": "code",
   "execution_count": 1,
   "id": "multiple-conditions",
   "metadata": {
    "execution": {
     "iopub.execute_input": "2021-02-03T14:29:39.080732Z",
     "iopub.status.busy": "2021-02-03T14:29:39.080105Z",
     "iopub.status.idle": "2021-02-03T14:29:39.137793Z",
     "shell.execute_reply": "2021-02-03T14:29:39.138069Z"
    }
   },
   "outputs": [],
   "source": [
    "import cfgmgr.config_manager as cfg\n",
    "import eii.msgbus as mb\n",
    "import threading\n",
    "import sys\n",
    "import time\n",
    "import ipynb.fs.full.udf_template as notebook_udf"
   ]
  },
  {
   "cell_type": "code",
   "execution_count": 3,
   "id": "living-compound",
   "metadata": {
    "execution": {
     "iopub.execute_input": "2021-02-03T14:29:39.145200Z",
     "iopub.status.busy": "2021-02-03T14:29:39.144885Z",
     "iopub.status.idle": "2021-02-03T14:29:44.119372Z",
     "shell.execute_reply": "2021-02-03T14:29:44.117826Z"
    }
   },
   "outputs": [
    {
     "name": "stdout",
     "output_type": "stream",
     "text": [
      "{'w': 1920.0, 'h': 1200.0}\n",
      "(True, None, None)\n"
     ]
    }
   ],
   "source": [
    "def main():\n",
    "    \"\"\"Main method.\n",
    "    \"\"\"\n",
    "    # Initializing Etcd to set env variables\n",
    "    ctx = cfg.ConfigMgr()\n",
    "    dev_mode = ctx.is_dev_mode()\n",
    "    if dev_mode is False:\n",
    "        print(\"PROD mode not supported, please re-run in DEV mode.\")\n",
    "        sys.exit(1)\n",
    "\n",
    "    msgbus_cfg = {\n",
    "                    \"type\": \"zmq_ipc\",\n",
    "                    \"socket_dir\": \"/EII/sockets\"\n",
    "                 }\n",
    "\n",
    "    # Initializing msgbus for subscribing\n",
    "    msgbus = mb.MsgbusContext(msgbus_cfg)\n",
    "    subscriber = msgbus.new_subscriber(\"jupyter_publisher\")\n",
    "        \n",
    "    # Initializing msgbus for publishing\n",
    "    pub_msgbus = mb.MsgbusContext(msgbus_cfg)\n",
    "    publisher = pub_msgbus.new_publisher(\"jupyter_subscriber\")\n",
    "\n",
    "    # Receive UDF config from jupyter_connector\n",
    "    conf_sub = msgbus.new_subscriber(\"jupyter_config\")\n",
    "    udf_config, _ = conf_sub.recv()\n",
    "\n",
    "    custom_udf = notebook_udf.Udf(udf_config)\n",
    "    while True:\n",
    "        metadata, blob = subscriber.recv()\n",
    "        frame_drop, frame_updated, md = custom_udf.process(blob, metadata)\n",
    "        if frame_drop is True:\n",
    "            print(\"Frame is skipped in UDF processs method\")\n",
    "            metadata[\"jpnb_frame_drop\"] = True\n",
    "        elif frame_updated is not None and md is not None:\n",
    "            metadata[\"jpnb_frame_updated\"] = True\n",
    "            metadata[\"jpnb_metadata_updated\"] = True\n",
    "            publisher.publish((md, frame_updated.tobytes(),))\n",
    "        elif frame_updated is not None or md is not None:\n",
    "            if frame_updated is not None:\n",
    "                print(\"Frame is updated in UDF processs method\")\n",
    "                metadata[\"jpnb_frame_updated\"] = True\n",
    "                publisher.publish((metadata, frame_updated.tobytes(),))\n",
    "            if md is not None:\n",
    "                print(\"metadata is updated in UDF processs method\")\n",
    "                metadata[\"jpnb_metadata_updated\"] = True\n",
    "                publisher.publish((md, blob,))\n",
    "        else:\n",
    "            publisher.publish((metadata, blob,))\n",
    "\n",
    "if __name__ == '__main__':\n",
    "    try:\n",
    "        main()\n",
    "    except Exception as e:\n",
    "        raise(\"Exception {}\".format(e))"
   ]
  }
 ],
 "metadata": {
  "kernelspec": {
   "display_name": "Python 3",
   "language": "python",
   "name": "python3"
  },
  "language_info": {
   "codemirror_mode": {
    "name": "ipython",
    "version": 3
   },
   "file_extension": ".py",
   "mimetype": "text/x-python",
   "name": "python",
   "nbconvert_exporter": "python",
   "pygments_lexer": "ipython3",
   "version": "3.6.9-final"
  }
 },
 "nbformat": 4,
 "nbformat_minor": 5
}